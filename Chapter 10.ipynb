{
 "cells": [
  {
   "cell_type": "code",
   "execution_count": 6,
   "metadata": {},
   "outputs": [
    {
     "name": "stdout",
     "output_type": "stream",
     "text": [
      "9\n"
     ]
    }
   ],
   "source": [
    "#1 간단한 함수 만들기\n",
    "\n",
    "# def 키워드를 이용해 아래와 같이 작성\n",
    "def square(x) :\n",
    "    return x ** 2\n",
    "\n",
    "def n_square(x, n) :\n",
    "    return x ** n\n",
    "\n",
    "# 아래와 같이 호출한다.\n",
    "print(square(3))\n"
   ]
  },
  {
   "cell_type": "code",
   "execution_count": 3,
   "metadata": {},
   "outputs": [
    {
     "name": "stdout",
     "output_type": "stream",
     "text": [
      "    a   b\n",
      "0  10  20\n",
      "1  20  30\n",
      "2  30  40\n"
     ]
    }
   ],
   "source": [
    "#2 apply 메서드 사용하기\n",
    "import pandas as pd\n",
    "\n",
    "df = pd.DataFrame({'a' : [10, 20, 30], 'b' : [20, 30, 40]})\n",
    "print(df)"
   ]
  },
  {
   "cell_type": "code",
   "execution_count": 7,
   "metadata": {},
   "outputs": [
    {
     "name": "stdout",
     "output_type": "stream",
     "text": [
      "0    100\n",
      "1    400\n",
      "2    900\n",
      "Name: a, dtype: int64\n",
      "0    100\n",
      "1    400\n",
      "2    900\n",
      "Name: a, dtype: int64\n"
     ]
    }
   ],
   "source": [
    "print(df['a'] ** 2)\n",
    "\n",
    "# apply를 통해 메서드를 적용시킨다.\n",
    "# 메서드의 인자가 하나라면 생략\n",
    "#sq = df['a'].apply(square)\n",
    "\n",
    "# 메서드의 인자가 둘 이상이라면 인자를 전달한다.\n",
    "sq = df['a'].apply(n_square, n = 2)\n",
    "print(sq)"
   ]
  },
  {
   "cell_type": "code",
   "execution_count": 9,
   "metadata": {},
   "outputs": [
    {
     "name": "stdout",
     "output_type": "stream",
     "text": [
      "a    20.0\n",
      "b    30.0\n",
      "dtype: float64\n",
      "0    15.0\n",
      "1    25.0\n",
      "2    35.0\n",
      "dtype: float64\n"
     ]
    }
   ],
   "source": [
    "def avg(data) :\n",
    "    return sum(data) / len(data)\n",
    "\n",
    "# 열들의 평균 구하기\n",
    "print(df.apply(avg))\n",
    "\n",
    "# 행들의 평균 구하기\n",
    "print(df.apply(avg, axis=1))\n"
   ]
  },
  {
   "cell_type": "code",
   "execution_count": 10,
   "metadata": {},
   "outputs": [],
   "source": [
    "#3 apply 메서드 사용하기 - 고급\n",
    "import seaborn as sns\n",
    "\n",
    "titanic = sns.load_dataset('titanic')"
   ]
  },
  {
   "cell_type": "code",
   "execution_count": 11,
   "metadata": {},
   "outputs": [
    {
     "name": "stdout",
     "output_type": "stream",
     "text": [
      "<class 'pandas.core.frame.DataFrame'>\n",
      "RangeIndex: 891 entries, 0 to 890\n",
      "Data columns (total 15 columns):\n",
      "survived       891 non-null int64\n",
      "pclass         891 non-null int64\n",
      "sex            891 non-null object\n",
      "age            714 non-null float64\n",
      "sibsp          891 non-null int64\n",
      "parch          891 non-null int64\n",
      "fare           891 non-null float64\n",
      "embarked       889 non-null object\n",
      "class          891 non-null category\n",
      "who            891 non-null object\n",
      "adult_male     891 non-null bool\n",
      "deck           203 non-null category\n",
      "embark_town    889 non-null object\n",
      "alive          891 non-null object\n",
      "alone          891 non-null bool\n",
      "dtypes: bool(2), category(2), float64(2), int64(4), object(5)\n",
      "memory usage: 80.6+ KB\n",
      "None\n"
     ]
    }
   ],
   "source": [
    "print(titanic.info())"
   ]
  },
  {
   "cell_type": "code",
   "execution_count": 12,
   "metadata": {},
   "outputs": [
    {
     "name": "stdout",
     "output_type": "stream",
     "text": [
      "survived         0\n",
      "pclass           0\n",
      "sex              0\n",
      "age            177\n",
      "sibsp            0\n",
      "parch            0\n",
      "fare             0\n",
      "embarked         2\n",
      "class            0\n",
      "who              0\n",
      "adult_male       0\n",
      "deck           688\n",
      "embark_town      2\n",
      "alive            0\n",
      "alone            0\n",
      "dtype: int64\n"
     ]
    }
   ],
   "source": [
    "import numpy as np\n",
    "\n",
    "# 누락값의 개수를 구하는 함수를 만든다.\n",
    "def count_missing(vec) :\n",
    "    null_vec = pd.isnull(vec)\n",
    "    null_count = np.sum(null_vec)\n",
    "    return null_count\n",
    "\n",
    "# 함수를 apply 메서드에 전달하여 컬럼 별 누락값 개수를 카운트한다.\n",
    "cmis_col = titanic.apply(count_missing)\n",
    "print(cmis_col)"
   ]
  },
  {
   "cell_type": "code",
   "execution_count": 15,
   "metadata": {},
   "outputs": [
    {
     "name": "stdout",
     "output_type": "stream",
     "text": [
      "survived       0.000000\n",
      "pclass         0.000000\n",
      "sex            0.000000\n",
      "age            0.198653\n",
      "sibsp          0.000000\n",
      "parch          0.000000\n",
      "fare           0.000000\n",
      "embarked       0.002245\n",
      "class          0.000000\n",
      "who            0.000000\n",
      "adult_male     0.000000\n",
      "deck           0.772166\n",
      "embark_town    0.002245\n",
      "alive          0.000000\n",
      "alone          0.000000\n",
      "dtype: float64\n",
      "survived       1.000000\n",
      "pclass         1.000000\n",
      "sex            1.000000\n",
      "age            0.801347\n",
      "sibsp          1.000000\n",
      "parch          1.000000\n",
      "fare           1.000000\n",
      "embarked       0.997755\n",
      "class          1.000000\n",
      "who            1.000000\n",
      "adult_male     1.000000\n",
      "deck           0.227834\n",
      "embark_town    0.997755\n",
      "alive          1.000000\n",
      "alone          1.000000\n",
      "dtype: float64\n"
     ]
    }
   ],
   "source": [
    "# 데이터 중 누락값이 차지하는 비율을 얻는 함수를 만든다.\n",
    "def prop_missing(vec) :\n",
    "    num = count_missing(vec)\n",
    "    dem = vec.size\n",
    "    return num / dem\n",
    "\n",
    "# 위 메서드를 활용하여 누락값이 아닌 데이터의 비율을 얻는 함수를 만든다.\n",
    "def prop_complete(vec) :\n",
    "    return 1 - prop_missing(vec)\n",
    "\n",
    "# apply 메서드에 전달하여 컬럼 별 누락값 비율을 구한다.\n",
    "pmis_col = titanic.apply(prop_missing)\n",
    "print(pmis_col)\n",
    "\n",
    "# apply 메서드에 전달하여 컬럼 별 데이터 비율을 구한다.\n",
    "pcom_col = titanic.apply(prop_complete)\n",
    "print(pcom_col)\n"
   ]
  },
  {
   "cell_type": "code",
   "execution_count": 17,
   "metadata": {},
   "outputs": [
    {
     "name": "stdout",
     "output_type": "stream",
     "text": [
      "0    1\n",
      "1    0\n",
      "2    1\n",
      "3    0\n",
      "4    1\n",
      "dtype: int64\n",
      "0    0.066667\n",
      "1    0.000000\n",
      "2    0.066667\n",
      "3    0.000000\n",
      "4    0.066667\n",
      "dtype: float64\n",
      "0    0.933333\n",
      "1    1.000000\n",
      "2    0.933333\n",
      "3    1.000000\n",
      "4    0.933333\n",
      "dtype: float64\n"
     ]
    }
   ],
   "source": [
    "# 행 별로도 구해본다.\n",
    "cmis_row = titanic.apply(count_missing, axis=1)\n",
    "pmis_row = titanic.apply(prop_missing, axis=1)\n",
    "pcom_row = titanic.apply(prop_complete, axis=1)\n",
    "\n",
    "print(cmis_row.head())\n",
    "print(pmis_row.head())\n",
    "print(pcom_row.head())"
   ]
  },
  {
   "cell_type": "code",
   "execution_count": 20,
   "metadata": {},
   "outputs": [
    {
     "name": "stdout",
     "output_type": "stream",
     "text": [
      "     survived  pclass     sex  age  sibsp  parch     fare embarked   class  \\\n",
      "490         0       3    male  NaN      1      0  19.9667        S   Third   \n",
      "260         0       3    male  NaN      0      0   7.7500        Q   Third   \n",
      "87          0       3    male  NaN      0      0   8.0500        S   Third   \n",
      "409         0       3  female  NaN      3      1  25.4667        S   Third   \n",
      "95          0       3    male  NaN      0      0   8.0500        S   Third   \n",
      "17          1       2    male  NaN      0      0  13.0000        S  Second   \n",
      "82          1       3  female  NaN      0      0   7.7875        Q   Third   \n",
      "466         0       2    male  NaN      0      0   0.0000        S  Second   \n",
      "768         0       3    male  NaN      1      0  24.1500        Q   Third   \n",
      "140         0       3  female  NaN      0      2  15.2458        C   Third   \n",
      "\n",
      "       who  adult_male deck  embark_town alive  alone  num_missing  \n",
      "490    man        True  NaN  Southampton    no  False            2  \n",
      "260    man        True  NaN   Queenstown    no   True            2  \n",
      "87     man        True  NaN  Southampton    no   True            2  \n",
      "409  woman       False  NaN  Southampton    no  False            2  \n",
      "95     man        True  NaN  Southampton    no   True            2  \n",
      "17     man        True  NaN  Southampton   yes   True            2  \n",
      "82   woman       False  NaN   Queenstown   yes   True            2  \n",
      "466    man        True  NaN  Southampton    no   True            2  \n",
      "768    man        True  NaN   Queenstown    no  False            2  \n",
      "140  woman       False  NaN    Cherbourg    no  False            2  \n"
     ]
    }
   ],
   "source": [
    "# 데이터 프레임에 누락값의 개수 열을 추가한다.\n",
    "# 각 행별로 누락값이 얼마나 존재하는지 알 수 있다.\n",
    "titanic['num_missing'] = titanic.apply(count_missing, axis=1)\n",
    "#print(titanic.head())\n",
    "\n",
    "# 누락값이 존재하는 행만 따로 볼 수 있다.\n",
    "print(titanic.loc[titanic.num_missing > 1, :].sample(10))"
   ]
  },
  {
   "cell_type": "code",
   "execution_count": null,
   "metadata": {},
   "outputs": [],
   "source": []
  }
 ],
 "metadata": {
  "kernelspec": {
   "display_name": "Python 3",
   "language": "python",
   "name": "python3"
  },
  "language_info": {
   "codemirror_mode": {
    "name": "ipython",
    "version": 3
   },
   "file_extension": ".py",
   "mimetype": "text/x-python",
   "name": "python",
   "nbconvert_exporter": "python",
   "pygments_lexer": "ipython3",
   "version": "3.6.5"
  }
 },
 "nbformat": 4,
 "nbformat_minor": 2
}
