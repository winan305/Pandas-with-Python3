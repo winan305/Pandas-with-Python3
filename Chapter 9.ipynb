{
 "cells": [
  {
   "cell_type": "code",
   "execution_count": 1,
   "metadata": {},
   "outputs": [
    {
     "name": "stdout",
     "output_type": "stream",
     "text": [
      "g\n",
      "l\n",
      "a s\n",
      "h\n",
      "a scr\n"
     ]
    }
   ],
   "source": [
    "#1 문자열 다루기\n",
    "\n",
    "word = 'grail'\n",
    "sent = 'a scratch'\n",
    "\n",
    "# 문자열은 리스트와 동일하다고 보면 편함\n",
    "# 양수 인덱스는 0부터 length - 1 까지\n",
    "# 음수 인덱스는 -length 부터 -1 까지 존재한다.\n",
    "# 양수 음수는 동일하게 작을수록 앞의 문자를 의미한다.\n",
    "\n",
    "print(word[0])\n",
    "print(word[-1])\n",
    "\n",
    "print(sent[0:3])\n",
    "print(sent[-1:])\n",
    "print(sent[-9:-4])"
   ]
  },
  {
   "cell_type": "code",
   "execution_count": 22,
   "metadata": {},
   "outputs": [
    {
     "name": "stdout",
     "output_type": "stream",
     "text": [
      "Black\n",
      "2\n",
      "True\n",
      "True\n",
      "2\n",
      "4\n",
      "True\n",
      "True\n",
      "True\n",
      "lower\n",
      "UPPER\n",
      "I'm a data enginer!\n",
      "strip!\n",
      "['Split', 'by', 'space!']\n",
      "('Partition', ',', ' by, comma')\n",
      "  Center  \n",
      "00000zeros\n",
      "a,b,c,d,e\n",
      "['This', 'is', 'lines!']\n"
     ]
    }
   ],
   "source": [
    "#2 문자열 메서드\n",
    "\n",
    "# capitalize : 첫 문자를 대문자로 변환\n",
    "print(\"black\".capitalize())\n",
    "\n",
    "# count : 문자열의 개수 반환\n",
    "print(\"This is string\".count(\"is\"))\n",
    "\n",
    "# startswith : 문자열이 특정 문자(열)로 시작하면 참\n",
    "print(\"Hello\".startswith(\"He\"))\n",
    "\n",
    "# endswith : 문자열이 특정 문자(열)로 끝나면 참\n",
    "print(\"World\".endswith(\"rld\"))\n",
    "\n",
    "# find : 찾을 문자(열)의 첫 번째 인덱스 반환. 없으면 -1\n",
    "print(\"I am a boy.\".find(\"am\"))\n",
    "\n",
    "# index : find 메서드와 유사. 실패 시 ValueError 반환(즉 예외를 발생시킴)\n",
    "print(\"You are a girl.\".index(\"a\"))\n",
    "\n",
    "# isalpah : 모든 문자가 알파벳이면 참\n",
    "print(\"abcdefg\".isalpha())\n",
    "\n",
    "# isdecimal : 모든 문자가 숫자면 참\n",
    "print(\"12345\".isdecimal())\n",
    "\n",
    "# isalnum : 모든 문자가 알파벳이거나 숫자면 참\n",
    "print(\"a1b2c3\".isalnum())\n",
    "\n",
    "# lower : 모든 문자를 소문자로\n",
    "print(\"LoWeR\".lower())\n",
    "\n",
    "# upper : 모든 문자를 대문자로\n",
    "print(\"uPPeR\".upper())\n",
    "\n",
    "# replace : 문자열의 문자(열)을 다른 문자(열)로 교체\n",
    "print(\"I'm a developer!\".replace(\"developer\", \"data enginer\"))\n",
    "\n",
    "# strip : 맨 앞, 뒤 공백을 제거\n",
    "print(\"   strip!   \".strip())\n",
    "\n",
    "# split : 문자열을 지정한 구분자로 나누어 리스트로 반환\n",
    "print(\"Split by space!\".split(\" \"))\n",
    "\n",
    "# partition : split 메서드와 비슷한 역할, 구분자도 함께 반환함\n",
    "print(\"Partition, by, comma\".partition(\",\"))\n",
    "\n",
    "# center : 지정한 너비로 문자열을 늘이고 문자열을 가운데 정렬\n",
    "print(\"Center\".center(10))\n",
    "\n",
    "# zfill : 문자열의 빈 칸을 0 으로 채움\n",
    "print(\"zeros\".zfill(10))\n",
    "\n",
    "# join : 문자열을 연결하여 새로운 문자열을 반환\n",
    "tokens = [\"a\", \"b\", \"c\", \"d\", \"e\"]\n",
    "print(\",\".join(tokens))\n",
    "\n",
    "# splitlines : 여러 행을 가진 문자열을 분리하여 리스트로 반환\n",
    "\n",
    "lines = \"\"\"This\n",
    "is\n",
    "lines!\n",
    "\"\"\"\n",
    "print(lines.splitlines())\n"
   ]
  },
  {
   "cell_type": "code",
   "execution_count": 29,
   "metadata": {},
   "outputs": [
    {
     "name": "stdout",
     "output_type": "stream",
     "text": [
      "It's just a flesh wound!\n",
      "Hi! Hello! nice to meet you!\n",
      "Hi! Hello! nice to meet you!\n",
      "Some digits of pi: 3.141592\n",
      "Number : 12,345\n",
      "Number : 0.0001031 or 0.0103%\n",
      "Number : 00042\n",
      "I only know 7 digits of pi\n",
      "Some digits of e: 2.72\n"
     ]
    }
   ],
   "source": [
    "#3 문자열 포매팅\n",
    "var = \"flesh wound\"\n",
    "print(\"It's just a {}!\".format(var))\n",
    "\n",
    "print(\"Hi! {0}! {1} to meet you!\".format(\"Hello\", \"nice\"))\n",
    "print(\"Hi! {hello}! {nice} to meet you!\".format(hello=\"Hello\", nice=\"nice\"))\n",
    "print(\"Some digits of pi: {}\".format(3.141592))\n",
    "print(\"Number : {:,}\".format(12345))\n",
    "print(\"Number : {0:.4} or {0:.4%}\".format(7/67890))\n",
    "print(\"Number : {0:05d}\".format(42))\n",
    "\n",
    "print(\"I only know %d digits of pi\" % 7)\n",
    "print(\"Some digits of %(cont)s: %(value).2f\" % {'cont' : 'e', 'value' : 2.718})"
   ]
  },
  {
   "cell_type": "code",
   "execution_count": 32,
   "metadata": {},
   "outputs": [
    {
     "name": "stdout",
     "output_type": "stream",
     "text": [
      "<class '_sre.SRE_Match'>\n",
      "<_sre.SRE_Match object; span=(0, 10), match='1234567890'>\n",
      "0\n",
      "10\n",
      "(0, 10)\n",
      "1234567890\n"
     ]
    }
   ],
   "source": [
    "#4 정규표현식 사용해보기\n",
    "# 문법이나 사용되는 문자 등은 생략\n",
    "\n",
    "import re\n",
    "\n",
    "tele_num = '1234567890'\n",
    "\n",
    "# string에 전달한 문자열에 pattern(숫자 10개에 맞는)이 있는가?\n",
    "m = re.match(pattern ='\\d\\d\\d\\d\\d\\d\\d\\d\\d\\d', string=tele_num)\n",
    "print(type(m))\n",
    "print(m)\n",
    "print(m.start())\n",
    "print(m.end())\n",
    "print(m.span())\n",
    "print(m.group())"
   ]
  },
  {
   "cell_type": "code",
   "execution_count": 35,
   "metadata": {},
   "outputs": [
    {
     "name": "stdout",
     "output_type": "stream",
     "text": [
      "<_sre.SRE_Match object; span=(0, 12), match='123 456 7890'>\n"
     ]
    }
   ],
   "source": [
    "tele_num_spaces = '123 456 7890'\n",
    "p = \"\\d{3}\\s?\\d{3}\\s?\\d{4}\"\n",
    "m = re.match(pattern=p, string = tele_num_spaces)\n",
    "print(m)"
   ]
  },
  {
   "cell_type": "code",
   "execution_count": 38,
   "metadata": {},
   "outputs": [
    {
     "name": "stdout",
     "output_type": "stream",
     "text": [
      "<_sre.SRE_Match object; span=(0, 14), match='(123) 456-7890'>\n"
     ]
    }
   ],
   "source": [
    "tele_num_space_paren_dash = '(123) 456-7890'\n",
    "p = '\\(?\\d{3}\\)?\\s\\d{3}\\s?-?\\d{4}'\n",
    "m = re.match(pattern=p, string=tele_num_space_paren_dash)\n",
    "print(m)\n",
    "\n",
    "# 정규표현식에 대해 잘 알아둘 필요가 있음!"
   ]
  },
  {
   "cell_type": "code",
   "execution_count": null,
   "metadata": {},
   "outputs": [],
   "source": []
  }
 ],
 "metadata": {
  "kernelspec": {
   "display_name": "Python 3",
   "language": "python",
   "name": "python3"
  },
  "language_info": {
   "codemirror_mode": {
    "name": "ipython",
    "version": 3
   },
   "file_extension": ".py",
   "mimetype": "text/x-python",
   "name": "python",
   "nbconvert_exporter": "python",
   "pygments_lexer": "ipython3",
   "version": "3.6.5"
  }
 },
 "nbformat": 4,
 "nbformat_minor": 2
}
