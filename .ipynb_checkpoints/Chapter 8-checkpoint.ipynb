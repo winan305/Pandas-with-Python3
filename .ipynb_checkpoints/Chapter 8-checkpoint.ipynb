{
 "cells": [
  {
   "cell_type": "code",
   "execution_count": 2,
   "metadata": {},
   "outputs": [
    {
     "name": "stdout",
     "output_type": "stream",
     "text": [
      "total_bill     float64\n",
      "tip            float64\n",
      "sex           category\n",
      "smoker        category\n",
      "day           category\n",
      "time          category\n",
      "size             int64\n",
      "sex_str         object\n",
      "dtype: object\n"
     ]
    }
   ],
   "source": [
    "#1. 자료형 다루기\n",
    "\n",
    "import pandas as pd\n",
    "import seaborn as sns\n",
    "\n",
    "tips = sns.load_dataset(\"tips\")\n",
    "\n",
    "# astype 메서드로 문자열로 변환\n",
    "tips['sex_str'] = tips['sex'].astype(str)\n",
    "print(tips.dtypes)"
   ]
  },
  {
   "cell_type": "code",
   "execution_count": 4,
   "metadata": {},
   "outputs": [
    {
     "name": "stdout",
     "output_type": "stream",
     "text": [
      "total_bill      object\n",
      "tip            float64\n",
      "sex           category\n",
      "smoker        category\n",
      "day           category\n",
      "time          category\n",
      "size             int64\n",
      "sex_str         object\n",
      "dtype: object\n",
      "total_bill     float64\n",
      "tip            float64\n",
      "sex           category\n",
      "smoker        category\n",
      "day           category\n",
      "time          category\n",
      "size             int64\n",
      "sex_str         object\n",
      "dtype: object\n"
     ]
    }
   ],
   "source": [
    "# 변환된 데이터를 원래대로 만들기\n",
    "\n",
    "tips['total_bill'] = tips['total_bill'].astype(str)\n",
    "print(tips.dtypes)\n",
    "\n",
    "tips['total_bill'] = tips['total_bill'].astype(float)\n",
    "print(tips.dtypes)"
   ]
  },
  {
   "cell_type": "code",
   "execution_count": 12,
   "metadata": {},
   "outputs": [
    {
     "name": "stdout",
     "output_type": "stream",
     "text": [
      "total_bill     float32\n",
      "tip            float64\n",
      "sex           category\n",
      "smoker        category\n",
      "day           category\n",
      "time          category\n",
      "size             int64\n",
      "sex_str         object\n",
      "dtype: object\n"
     ]
    },
    {
     "name": "stderr",
     "output_type": "stream",
     "text": [
      "c:\\users\\administrator\\appdata\\local\\programs\\python\\python36\\lib\\site-packages\\ipykernel_launcher.py:17: SettingWithCopyWarning: \n",
      "A value is trying to be set on a copy of a slice from a DataFrame.\n",
      "Try using .loc[row_indexer,col_indexer] = value instead\n",
      "\n",
      "See the caveats in the documentation: http://pandas.pydata.org/pandas-docs/stable/user_guide/indexing.html#returning-a-view-versus-a-copy\n",
      "c:\\users\\administrator\\appdata\\local\\programs\\python\\python36\\lib\\site-packages\\ipykernel_launcher.py:22: SettingWithCopyWarning: \n",
      "A value is trying to be set on a copy of a slice from a DataFrame.\n",
      "Try using .loc[row_indexer,col_indexer] = value instead\n",
      "\n",
      "See the caveats in the documentation: http://pandas.pydata.org/pandas-docs/stable/user_guide/indexing.html#returning-a-view-versus-a-copy\n",
      "c:\\users\\administrator\\appdata\\local\\programs\\python\\python36\\lib\\site-packages\\ipykernel_launcher.py:28: SettingWithCopyWarning: \n",
      "A value is trying to be set on a copy of a slice from a DataFrame.\n",
      "Try using .loc[row_indexer,col_indexer] = value instead\n",
      "\n",
      "See the caveats in the documentation: http://pandas.pydata.org/pandas-docs/stable/user_guide/indexing.html#returning-a-view-versus-a-copy\n"
     ]
    }
   ],
   "source": [
    "# 잘못 입력한 데이터 처리하기\n",
    "\n",
    "# 특정 데이터를 잘못 입력한 것으로 만든다.\n",
    "tips_sub_miss = tips.head(10)\n",
    "tips_sub_miss.loc[[1, 3, 5, 7], 'total_bill'] = 'missing'\n",
    "# print(tips_sub_miss)\n",
    "# total_bill 열이 실수가 아니라 문자열(object)임을 확인할 수 있다.\n",
    "# print(tips_sub_miss.dtypes)\n",
    "\n",
    "# tips_sub_miss['total_bill'].astype(float)\n",
    "# 아래 코드로 실수로 만들려고 하면 에러가 발생한다.\n",
    "# 문자열(missing) 데이터를 float으로 만들 수 없기 때문\n",
    "# 해결하기 위해 to_numeric 메서드를 사용한다.\n",
    "\n",
    "#1. 에러를 무시하는 방법. 오류가 없지만 자료형도 변하지 않음.\n",
    "tips_sub_miss['total_bill'] = pd.to_numeric(tips_sub_miss['total_bill'],\n",
    "                                           errors='ignore')\n",
    "# print(tips_sub_miss.dtypes)\n",
    "\n",
    "#2. 누락값으로 바꾸는 방법. 자료형이 실수로 바뀜.\n",
    "tips_sub_miss['total_bill'] = pd.to_numeric(tips_sub_miss['total_bill'],\n",
    "                                           errors='coerce')\n",
    "# print(tips_sub_miss.dtypes)\n",
    "\n",
    "#3. downcast 인자 사용. float64가 float32로 바뀐다.\n",
    "tips_sub_miss['total_bill'] = pd.to_numeric(tips_sub_miss['total_bill'],\n",
    "                                           errors='coerce',\n",
    "                                           downcast='float')\n",
    "print(tips_sub_miss.dtypes)"
   ]
  },
  {
   "cell_type": "code",
   "execution_count": 14,
   "metadata": {},
   "outputs": [
    {
     "name": "stdout",
     "output_type": "stream",
     "text": [
      "<class 'pandas.core.frame.DataFrame'>\n",
      "RangeIndex: 244 entries, 0 to 243\n",
      "Data columns (total 8 columns):\n",
      "total_bill    244 non-null float64\n",
      "tip           244 non-null float64\n",
      "sex           244 non-null object\n",
      "smoker        244 non-null category\n",
      "day           244 non-null category\n",
      "time          244 non-null category\n",
      "size          244 non-null int64\n",
      "sex_str       244 non-null object\n",
      "dtypes: category(3), float64(2), int64(1), object(2)\n",
      "memory usage: 10.7+ KB\n",
      "None\n",
      "<class 'pandas.core.frame.DataFrame'>\n",
      "RangeIndex: 244 entries, 0 to 243\n",
      "Data columns (total 8 columns):\n",
      "total_bill    244 non-null float64\n",
      "tip           244 non-null float64\n",
      "sex           244 non-null category\n",
      "smoker        244 non-null category\n",
      "day           244 non-null category\n",
      "time          244 non-null category\n",
      "size          244 non-null int64\n",
      "sex_str       244 non-null object\n",
      "dtypes: category(4), float64(2), int64(1), object(1)\n",
      "memory usage: 9.2+ KB\n",
      "None\n"
     ]
    }
   ],
   "source": [
    "#2. 카테고리 자료형\n",
    "\n",
    "# 카테고리는 용량과 속도면에서 효율적\n",
    "# 동일한 문자열이 반복되어 데이터를 구성하는 경우 사용한다.\n",
    "\n",
    "# tips의 sex열의 데이터는 10.7KB 정도의 용량을 차지한다.\n",
    "tips['sex'] = tips['sex'].astype('str')\n",
    "print(tips.info())\n",
    "\n",
    "# category로 변환하니 9.1KB로 줄어들었다.\n",
    "tips['sex'] = tips['sex'].astype('category')\n",
    "print(tips.info())\n",
    "\n",
    "# 카테고리 자료형은 데이터의 크기가 커지면 커질수록 진가를 발휘한다."
   ]
  },
  {
   "cell_type": "code",
   "execution_count": null,
   "metadata": {},
   "outputs": [],
   "source": []
  }
 ],
 "metadata": {
  "kernelspec": {
   "display_name": "Python 3",
   "language": "python",
   "name": "python3"
  },
  "language_info": {
   "codemirror_mode": {
    "name": "ipython",
    "version": 3
   },
   "file_extension": ".py",
   "mimetype": "text/x-python",
   "name": "python",
   "nbconvert_exporter": "python",
   "pygments_lexer": "ipython3",
   "version": "3.6.5"
  }
 },
 "nbformat": 4,
 "nbformat_minor": 2
}
